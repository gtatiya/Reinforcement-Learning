{
 "cells": [
  {
   "cell_type": "code",
   "execution_count": 33,
   "metadata": {
    "scrolled": true
   },
   "outputs": [],
   "source": [
    "import os\n",
    "import copy\n",
    "\n",
    "import numpy as np\n",
    "from stable_baselines.gail import ExpertDataset"
   ]
  },
  {
   "cell_type": "code",
   "execution_count": 2,
   "metadata": {},
   "outputs": [
    {
     "name": "stdout",
     "output_type": "stream",
     "text": [
      "actions (217, 1)\n",
      "obs (217, 54)\n",
      "rewards (217,)\n",
      "episode_returns (10,)\n",
      "episode_starts (217,)\n",
      "Total trajectories: -1\n",
      "Total transitions: 217\n",
      "Average returns: 112.5\n",
      "Std for returns: 10.259142264341596\n"
     ]
    }
   ],
   "source": [
    "dataset = ExpertDataset(expert_path='expert_NovelGridworld-v4_10demos.npz')"
   ]
  },
  {
   "cell_type": "code",
   "execution_count": 3,
   "metadata": {},
   "outputs": [
    {
     "data": {
      "text/plain": [
       "<stable_baselines.gail.dataset.dataset.ExpertDataset at 0x2852009f788>"
      ]
     },
     "execution_count": 3,
     "metadata": {},
     "output_type": "execute_result"
    }
   ],
   "source": [
    "dataset"
   ]
  },
  {
   "cell_type": "code",
   "execution_count": 39,
   "metadata": {},
   "outputs": [
    {
     "name": "stdout",
     "output_type": "stream",
     "text": [
      "(223, 54)\n",
      "(223, 1)\n",
      "(10,)\n",
      "returns:  [116. 117. 132. 114. 145. 124. 118. 116. 119. 104.]\n",
      "120.5\n",
      "10.58536725862641\n",
      "-1\n",
      "223\n"
     ]
    }
   ],
   "source": [
    "print(dataset.observations.shape)\n",
    "print(dataset.actions.shape)\n",
    "print(dataset.returns.shape)\n",
    "print(\"returns: \", dataset.returns)\n",
    "print(dataset.avg_ret)\n",
    "print(dataset.std_ret)\n",
    "print(dataset.num_traj)\n",
    "print(dataset.num_transition)"
   ]
  },
  {
   "cell_type": "code",
   "execution_count": 40,
   "metadata": {},
   "outputs": [
    {
     "name": "stdout",
     "output_type": "stream",
     "text": [
      "(446, 54)\n"
     ]
    }
   ],
   "source": [
    "observations = np.concatenate((dataset.observations, dataset.observations))\n",
    "\n",
    "print(observations.shape)"
   ]
  },
  {
   "cell_type": "code",
   "execution_count": 59,
   "metadata": {},
   "outputs": [
    {
     "name": "stdout",
     "output_type": "stream",
     "text": [
      "expert_NovelGridworld-v4_10demos_1.npz\n",
      "C:\\Users\\GyanT\\Documents\\GitHub\\Reinforcement-Learning\\stable-baselines\\GT\\expert_data\\expert_NovelGridworld-v4_10demos_1.npz\n",
      "actions (217, 1)\n",
      "obs (217, 54)\n",
      "rewards (217,)\n",
      "episode_returns (10,)\n",
      "episode_starts (217,)\n",
      "Total trajectories: -1\n",
      "Total transitions: 217\n",
      "Average returns: 112.5\n",
      "Std for returns: 10.259142264341596\n",
      "traj_data:  [ True False False False False False False False False False False False\n",
      " False False False False False False False False False False False False\n",
      "  True False False False False False False False False False False False\n",
      " False False False False False False  True False False False False False\n",
      " False False False False False False False False  True False False False\n",
      " False False False False False False False False False False False False\n",
      " False False False False False False False False  True False False False\n",
      " False False False False False False False False False False False False\n",
      " False False False False False False False False False False False False\n",
      " False False  True False False False False False False False False False\n",
      " False False False False False False False False False False False False\n",
      "  True False False False False False False False False False False False\n",
      " False False False False False False False  True False False False False\n",
      " False False False False False False False False False False False False\n",
      " False False False False False False False False False False False False\n",
      " False  True False False False False False False False False False False\n",
      " False False False False  True False False False False False False False\n",
      " False False False False False False False False False False False False\n",
      " False]\n",
      "expert_NovelGridworld-v4_10demos_2.npz\n",
      "C:\\Users\\GyanT\\Documents\\GitHub\\Reinforcement-Learning\\stable-baselines\\GT\\expert_data\\expert_NovelGridworld-v4_10demos_2.npz\n",
      "actions (223, 1)\n",
      "obs (223, 54)\n",
      "rewards (223,)\n",
      "episode_returns (10,)\n",
      "episode_starts (223,)\n",
      "Total trajectories: -1\n",
      "Total transitions: 223\n",
      "Average returns: 120.5\n",
      "Std for returns: 10.58536725862641\n",
      "traj_data:  [ True False False False False False False False False False False False\n",
      " False False False False False False False False False False  True False\n",
      " False False False False False False False False False False False False\n",
      " False False False False False False False  True False False False False\n",
      " False False False False False False False False False False False False\n",
      " False False False False False False False False False False False False\n",
      " False  True False False False False False False False False False False\n",
      " False False False False False False False False False False False False\n",
      " False  True False False False False False False False False False False\n",
      " False False False False False False False False False False False False\n",
      " False False False  True False False False False False False False False\n",
      " False False False False False  True False False False False False False\n",
      " False False False False False False False False False False False False\n",
      " False  True False False False False False False False False False False\n",
      " False False False False False False False False False False False  True\n",
      " False False False False False False False False False False False False\n",
      " False False False False False False  True False False False False False\n",
      " False False False False False False False False False False False False\n",
      " False False False False False False False]\n"
     ]
    }
   ],
   "source": [
    "\n",
    "expert_data_files_path = r\"C:\\Users\\GyanT\\Documents\\GitHub\\Reinforcement-Learning\\stable-baselines\\GT\\expert_data\"\n",
    "file_count = 0\n",
    "\n",
    "for root, dirs, filenames in os.walk(expert_data_files_path):\n",
    "    for a_file in sorted(filenames):\n",
    "        print(a_file)\n",
    "        filename_temp = expert_data_files_path+os.sep+str(a_file)\n",
    "        print(filename_temp)\n",
    "        dataset = ExpertDataset(expert_path=filename_temp)\n",
    "        traj_data = np.load(filename_temp, allow_pickle=True)\n",
    "        print(\"traj_data: \", traj_data['episode_starts'])\n",
    "        if file_count == 0:\n",
    "            my_dataset = copy.deepcopy(dataset)\n",
    "            \n",
    "            total_episodes = len(dataset.returns)\n",
    "        else:\n",
    "            my_dataset.observations = np.concatenate((my_dataset.observations, dataset.observations))\n",
    "            my_dataset.actions = np.concatenate((my_dataset.actions, dataset.actions))\n",
    "            my_dataset.returns = np.concatenate((my_dataset.returns, dataset.returns))\n",
    "            my_dataset.avg_ret += dataset.avg_ret\n",
    "            my_dataset.std_ret += dataset.std_ret\n",
    "            my_dataset.num_transition += dataset.num_transition\n",
    "            \n",
    "        file_count += 1\n",
    "\n",
    "my_dataset.avg_ret = my_dataset.avg_ret / file_count\n",
    "my_dataset.std_ret = my_dataset.std_ret / file_count"
   ]
  },
  {
   "cell_type": "code",
   "execution_count": 52,
   "metadata": {},
   "outputs": [
    {
     "name": "stdout",
     "output_type": "stream",
     "text": [
      "(440, 54)\n",
      "(440, 1)\n",
      "(20,)\n",
      "returns:  [114. 120. 124. 105. 108. 116. 119. 108. 123.  88. 116. 117. 132. 114.\n",
      " 145. 124. 118. 116. 119. 104.]\n",
      "116.5\n",
      "10.422254761484004\n",
      "-1\n",
      "440\n"
     ]
    }
   ],
   "source": [
    "print(my_dataset.observations.shape)\n",
    "print(my_dataset.actions.shape)\n",
    "print(my_dataset.returns.shape)\n",
    "print(\"returns: \", my_dataset.returns)\n",
    "print(my_dataset.avg_ret)\n",
    "print(my_dataset.std_ret)\n",
    "print(my_dataset.num_traj)\n",
    "print(my_dataset.num_transition)"
   ]
  },
  {
   "cell_type": "code",
   "execution_count": null,
   "metadata": {},
   "outputs": [],
   "source": [
    "numpy_dict = {\n",
    "        'actions': my_dataset.actions,\n",
    "        'obs': my_dataset.observations,\n",
    "        'rewards': my_dataset.returns,\n",
    "        'episode_returns': my_dataset.returns,\n",
    "        'episode_starts': episode_starts\n",
    "}"
   ]
  },
  {
   "cell_type": "code",
   "execution_count": null,
   "metadata": {},
   "outputs": [],
   "source": [
    "traj_data = np.load(expert_path, allow_pickle=True)"
   ]
  },
  {
   "cell_type": "code",
   "execution_count": null,
   "metadata": {},
   "outputs": [],
   "source": []
  },
  {
   "cell_type": "code",
   "execution_count": null,
   "metadata": {},
   "outputs": [],
   "source": []
  },
  {
   "cell_type": "code",
   "execution_count": null,
   "metadata": {},
   "outputs": [],
   "source": []
  }
 ],
 "metadata": {
  "kernelspec": {
   "display_name": "Python 3",
   "language": "python",
   "name": "python3"
  },
  "language_info": {
   "codemirror_mode": {
    "name": "ipython",
    "version": 3
   },
   "file_extension": ".py",
   "mimetype": "text/x-python",
   "name": "python",
   "nbconvert_exporter": "python",
   "pygments_lexer": "ipython3",
   "version": "3.7.7"
  }
 },
 "nbformat": 4,
 "nbformat_minor": 4
}
