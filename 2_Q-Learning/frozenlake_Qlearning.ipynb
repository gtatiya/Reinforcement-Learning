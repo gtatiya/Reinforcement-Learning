{
 "cells": [
  {
   "cell_type": "markdown",
   "metadata": {},
   "source": [
    "# Q-learning applied to FrozenLake "
   ]
  },
  {
   "cell_type": "markdown",
   "metadata": {},
   "source": [
    "#### **Remember**: Q-learning is a model free, off-policy algorithm that can be used to find an optimal action using a Q function. Q can be represented as a table that contains a value for each pair state-action\n",
    "    \n",
    "To review Q-learning watch [Q learning explained by Siraj](https://www.youtube.com/watch?v=aCEvtRtNO-M)"
   ]
  },
  {
   "cell_type": "markdown",
   "metadata": {},
   "source": [
    "#### Q-learning pipeline is quite easy an can be summarised in 5 blocks:\n",
    "\n",
    "![as](img/short_diag.jpg)"
   ]
  },
  {
   "cell_type": "markdown",
   "metadata": {},
   "source": [
    "## WHAT'S THE ENVIRONMENT?\n",
    "\n",
    "#### We'll apply Q-learning on a [Gym](http://gym.openai.com/) game called [FrozenLake](https://gym.openai.com/envs/FrozenLake-v0/)\n",
    "\n",
    "![](img/frozenlake_v0.png)"
   ]
  },
  {
   "cell_type": "markdown",
   "metadata": {},
   "source": [
    "## LET'S START TO CODE"
   ]
  },
  {
   "cell_type": "code",
   "execution_count": 1,
   "metadata": {},
   "outputs": [],
   "source": [
    "import gym\n",
    "import random\n",
    "from collections import namedtuple\n",
    "import collections\n",
    "import numpy as np\n",
    "import matplotlib.pyplot as plt\n",
    "%matplotlib inline  "
   ]
  },
  {
   "cell_type": "markdown",
   "metadata": {},
   "source": [
    "### BASIC FUNCTION TO CHOOSE AN ACTION FOLLOWING DIFFERENT POLICIES"
   ]
  },
  {
   "cell_type": "code",
   "execution_count": 2,
   "metadata": {},
   "outputs": [],
   "source": [
    "def select_eps_greedy_action(table, obs, n_actions):\n",
    "    '''\n",
    "    Select the action using a ε-greedy policy (add a randomness ε for the choice of the action)\n",
    "    '''\n",
    "    value, action = best_action_value(table, obs)\n",
    "\n",
    "    if random.random() < epsilon:\n",
    "        return random.randint(0, n_actions-1)\n",
    "    else:\n",
    "        return action\n",
    "\n",
    "def select_greedy_action(table, obs, n_actions):\n",
    "    '''\n",
    "    Select the action using a greedy policy (take the best action according to the policy)\n",
    "    '''\n",
    "    value, action = best_action_value(table, obs)\n",
    "    return action\n",
    "\n",
    "\n",
    "def best_action_value(table, state):\n",
    "    '''\n",
    "    Exploring the table, take the best action that maximize Q(s,a)\n",
    "    '''\n",
    "    best_action = 0\n",
    "    max_value = 0\n",
    "    for action in range(n_actions):\n",
    "        if table[(state, action)] > max_value:\n",
    "            best_action = action\n",
    "            max_value = table[(state, action)]\n",
    "\n",
    "    return max_value, best_action"
   ]
  },
  {
   "cell_type": "markdown",
   "metadata": {},
   "source": [
    "![](img/Q_function.png)"
   ]
  },
  {
   "cell_type": "code",
   "execution_count": 3,
   "metadata": {},
   "outputs": [],
   "source": [
    "def Q_learning(table, obs0, obs1, reward, action):\n",
    "    '''\n",
    "    Q-learning. Update Q(obs0,action) according to Q(obs1,*) and the reward just obtained\n",
    "    '''\n",
    "    \n",
    "    # Take the best value reachable from the state obs1\n",
    "    best_value, _ = best_action_value(table, obs1)\n",
    "\n",
    "    # Calculate Q-target value \n",
    "    Q_target = reward + GAMMA * best_value\n",
    "\n",
    "    # Calculate the Q-error between the target and the previous value\n",
    "    Q_error = Q_target - table[(obs0, action)]\n",
    "\n",
    "    # Update Q(obs0,action)\n",
    "    table[(obs0, action)] += LEARNING_RATE * Q_error"
   ]
  },
  {
   "cell_type": "markdown",
   "metadata": {},
   "source": [
    "### TEST THE POLICY"
   ]
  },
  {
   "cell_type": "code",
   "execution_count": 4,
   "metadata": {},
   "outputs": [],
   "source": [
    "def test_game(env, table):\n",
    "    '''\n",
    "    Test the new table playing TEST_EPISODES games\n",
    "    '''\n",
    "    \n",
    "    n_actions = env.action_space.n\n",
    "    \n",
    "    reward_games = []\n",
    "    for _ in range(TEST_EPISODES):\n",
    "        obs = env.reset()\n",
    "        rewards = 0\n",
    "        while True:\n",
    "            # Act greedly \n",
    "            next_obs, reward, done, _ = env.step(select_greedy_action(table, obs, n_actions))\n",
    "            obs = next_obs\n",
    "            rewards += reward\n",
    "\n",
    "            if done:\n",
    "                reward_games.append(rewards)\n",
    "                break\n",
    "\n",
    "    return np.mean(reward_games)"
   ]
  },
  {
   "cell_type": "markdown",
   "metadata": {},
   "source": [
    "### MAIN PROCEDURE"
   ]
  },
  {
   "cell_type": "code",
   "execution_count": 5,
   "metadata": {},
   "outputs": [],
   "source": [
    "# Some hyperparameters..\n",
    "GAMMA = 0.95 # Discount Factor\n",
    "\n",
    "# NB: the decay rate allow to regulate the Exploration - Exploitation trade-off\n",
    "#     start with a EPSILON of 1 and decay until reach 0\n",
    "EPS_DECAY_RATE = 0.9993\n",
    "\n",
    "LEARNING_RATE = 0.8\n",
    "\n",
    "# .. and constants\n",
    "TEST_EPISODES = 100\n",
    "MAX_GAMES = 15000"
   ]
  },
  {
   "cell_type": "code",
   "execution_count": 6,
   "metadata": {},
   "outputs": [
    {
     "name": "stdout",
     "output_type": "stream",
     "text": [
      "obs_length:  16\n",
      "n_actions:  4\n",
      "table: defaultdict(<class 'float'>, {})\n",
      "\tEp: 999 Test reward: 0.16 0.5\n",
      "\tEp: 1999 Test reward: 0.1 0.25\n",
      "\tEp: 2999 Test reward: 0.0 0.12\n",
      "\tEp: 3999 Test reward: 0.64 0.06\n",
      "\tEp: 4999 Test reward: 0.03 0.03\n",
      "\tEp: 5999 Test reward: 0.61 0.01\n",
      "\tEp: 6999 Test reward: 0.52 0.01\n",
      "\tEp: 7999 Test reward: 0.66 0.0\n",
      "\tEp: 8999 Test reward: 0.72 0.0\n",
      "\tEp: 9999 Test reward: 0.41 0.0\n",
      "\tEp: 10999 Test reward: 0.58 0.0\n",
      "\tEp: 11999 Test reward: 0.75 0.0\n",
      "\tEp: 12999 Test reward: 0.79 0.0\n",
      "\tEp: 13999 Test reward: 0.74 0.0\n",
      "\tEp: 14999 Test reward: 0.78 0.0\n"
     ]
    },
    {
     "data": {
      "image/png": "[encoded data removed]",
      "text/plain": [
       "<Figure size 1296x648 with 1 Axes>"
      ]
     },
     "metadata": {
      "needs_background": "light"
     },
     "output_type": "display_data"
    }
   ],
   "source": [
    "# Create the environment\n",
    "# env = gym.make('Taxi-v3')\n",
    "env = gym.make(\"FrozenLake-v0\")\n",
    "obs = env.reset()\n",
    "\n",
    "obs_length = env.observation_space.n\n",
    "n_actions = env.action_space.n\n",
    "\n",
    "print(\"obs_length: \", obs_length)\n",
    "print(\"n_actions: \", n_actions)\n",
    "\n",
    "reward_count = 0\n",
    "games_count = 0\n",
    "\n",
    "# Create and initialize the table with 0.0\n",
    "table = collections.defaultdict(float)\n",
    "print(\"table:\", table)\n",
    "\n",
    "test_rewards_list = []\n",
    "\n",
    "# Reinitialize epsilon after each session\n",
    "epsilon = 1.0\n",
    "\n",
    "while games_count < MAX_GAMES:\n",
    "\n",
    "    # Select the action following an ε-greedy policy\n",
    "    # print(\"obs: \", obs)\n",
    "    action = select_eps_greedy_action(table, obs, n_actions)\n",
    "    # print(\"action: \", action)\n",
    "    next_obs, reward, done, _ = env.step(action)\n",
    "    \n",
    "    # Update the Q-table\n",
    "    Q_learning(table, obs, next_obs, reward, action)\n",
    "    if reward > 0.0:\n",
    "        #print(\"next_obs: \", next_obs)\n",
    "        #print(\"reward:\", reward)\n",
    "        #print(\"table:\", table)\n",
    "        pass\n",
    "\n",
    "    reward_count += reward\n",
    "    obs = next_obs\n",
    "\n",
    "    if done:\n",
    "        epsilon *= EPS_DECAY_RATE\n",
    "\n",
    "        # Test the new table every 1k games\n",
    "        if (games_count + 1) % 1000 == 0:\n",
    "            test_reward = test_game(env, table)\n",
    "            print('\\tEp:', games_count, 'Test reward:', test_reward, np.round(epsilon,2))\n",
    "\n",
    "            test_rewards_list.append(test_reward)\n",
    "\n",
    "        obs = env.reset()\n",
    "        reward_count = 0\n",
    "        games_count += 1    \n",
    "\n",
    "# Plot the accuracy over the number of steps\n",
    "plt.figure(figsize=(18,9))\n",
    "plt.xlabel('Steps')\n",
    "plt.ylabel('Accurracy')\n",
    "plt.plot(test_rewards_list)\n",
    "plt.show()"
   ]
  },
  {
   "cell_type": "markdown",
   "metadata": {},
   "source": [
    "#### NB: in case you want to apply Q-learning to continuous state and actions games, you have to quantize the state and action spaces"
   ]
  },
  {
   "cell_type": "code",
   "execution_count": 7,
   "metadata": {
    "scrolled": true
   },
   "outputs": [
    {
     "data": {
      "text/plain": [
       "defaultdict(float,\n",
       "            {(0, 0): 0.04859803295688771,\n",
       "             (0, 1): 0.0219345520348815,\n",
       "             (0, 2): 0.021225847392368956,\n",
       "             (0, 3): 0.022269783210682036,\n",
       "             (4, 0): 0.05188876984667673,\n",
       "             (4, 1): 0.0031958522527258046,\n",
       "             (4, 2): 0.0011303509928793053,\n",
       "             (4, 3): 0.0022462095638951553,\n",
       "             (1, 0): 0.0072292433974257,\n",
       "             (1, 1): 0.0008803120077130236,\n",
       "             (1, 2): 0.009827108267878033,\n",
       "             (1, 3): 0.1323752971185843,\n",
       "             (5, 0): 0.0,\n",
       "             (5, 1): 0.0,\n",
       "             (5, 2): 0.0,\n",
       "             (5, 3): 0.0,\n",
       "             (8, 0): 0.008601833188254339,\n",
       "             (8, 1): 0.00197995798446092,\n",
       "             (8, 2): 0.010463804934797892,\n",
       "             (8, 3): 0.16047722521940194,\n",
       "             (9, 0): 0.002446342442966265,\n",
       "             (9, 1): 0.3443602757761703,\n",
       "             (9, 2): 0.0066989763499432226,\n",
       "             (9, 3): 2.6188333551198652e-05,\n",
       "             (13, 0): 0.01821484688194336,\n",
       "             (13, 1): 0.025162573021151186,\n",
       "             (13, 2): 0.7869538109227685,\n",
       "             (13, 3): 0.002292930609828197,\n",
       "             (12, 0): 0.0,\n",
       "             (12, 1): 0.0,\n",
       "             (12, 2): 0.0,\n",
       "             (12, 3): 0.0,\n",
       "             (2, 0): 0.005271633652077799,\n",
       "             (2, 1): 0.0023435036897584607,\n",
       "             (2, 2): 0.005128883559188673,\n",
       "             (2, 3): 0.17197226981297983,\n",
       "             (3, 0): 0.001313304167185992,\n",
       "             (3, 1): 0.002174986924509268,\n",
       "             (3, 2): 0.00018973203855655754,\n",
       "             (3, 3): 0.13445613873244575,\n",
       "             (7, 0): 0.0,\n",
       "             (7, 1): 0.0,\n",
       "             (7, 2): 0.0,\n",
       "             (7, 3): 0.0,\n",
       "             (6, 0): 5.25450295592169e-06,\n",
       "             (6, 1): 1.3853354977943793e-06,\n",
       "             (6, 2): 0.13133715059052048,\n",
       "             (6, 3): 1.1079378941066665e-06,\n",
       "             (10, 0): 0.7603649084853317,\n",
       "             (10, 1): 0.0001799578634349454,\n",
       "             (10, 2): 0.0005337024050355746,\n",
       "             (10, 3): 9.52367129264367e-05,\n",
       "             (11, 0): 0.0,\n",
       "             (11, 1): 0.0,\n",
       "             (11, 2): 0.0,\n",
       "             (11, 3): 0.0,\n",
       "             (14, 0): 0.04853865763127721,\n",
       "             (14, 1): 0.9806881654945288,\n",
       "             (14, 2): 0.1048858499823499,\n",
       "             (14, 3): 0.07671438822317689,\n",
       "             (15, 0): 0.0,\n",
       "             (15, 1): 0.0,\n",
       "             (15, 2): 0.0,\n",
       "             (15, 3): 0.0})"
      ]
     },
     "execution_count": 7,
     "metadata": {},
     "output_type": "execute_result"
    }
   ],
   "source": [
    "table"
   ]
  },
  {
   "cell_type": "code",
   "execution_count": null,
   "metadata": {},
   "outputs": [],
   "source": []
  }
 ],
 "metadata": {
  "kernelspec": {
   "display_name": "Python 3",
   "language": "python",
   "name": "python3"
  },
  "language_info": {
   "codemirror_mode": {
    "name": "ipython",
    "version": 3
   },
   "file_extension": ".py",
   "mimetype": "text/x-python",
   "name": "python",
   "nbconvert_exporter": "python",
   "pygments_lexer": "ipython3",
   "version": "3.7.6"
  }
 },
 "nbformat": 4,
 "nbformat_minor": 2
}
